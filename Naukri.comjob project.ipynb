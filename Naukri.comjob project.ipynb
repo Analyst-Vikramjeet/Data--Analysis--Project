{
 "cells": [
  {
   "cell_type": "code",
   "execution_count": 1,
   "id": "b1dec934",
   "metadata": {},
   "outputs": [],
   "source": [
    "import numpy as np\n",
    "import pandas as pd\n",
    "import matplotlib.pyplot as plt\n",
    "import seaborn as sns "
   ]
  },
  {
   "cell_type": "code",
   "execution_count": 2,
   "id": "08f01376",
   "metadata": {},
   "outputs": [],
   "source": [
    "df=pd.read_csv('naukri_data_science_jobs_india.csv')"
   ]
  },
  {
   "cell_type": "markdown",
   "id": "76b32ca8",
   "metadata": {},
   "source": [
    "  ### lets Check the first 10 values of the dataset."
   ]
  },
  {
   "cell_type": "code",
   "execution_count": 3,
   "id": "a65b3be8",
   "metadata": {},
   "outputs": [
    {
     "data": {
      "text/html": [
       "<div>\n",
       "<style scoped>\n",
       "    .dataframe tbody tr th:only-of-type {\n",
       "        vertical-align: middle;\n",
       "    }\n",
       "\n",
       "    .dataframe tbody tr th {\n",
       "        vertical-align: top;\n",
       "    }\n",
       "\n",
       "    .dataframe thead th {\n",
       "        text-align: right;\n",
       "    }\n",
       "</style>\n",
       "<table border=\"1\" class=\"dataframe\">\n",
       "  <thead>\n",
       "    <tr style=\"text-align: right;\">\n",
       "      <th></th>\n",
       "      <th>Job_Role</th>\n",
       "      <th>Company</th>\n",
       "      <th>Location</th>\n",
       "      <th>Job Experience</th>\n",
       "      <th>Skills/Description</th>\n",
       "    </tr>\n",
       "  </thead>\n",
       "  <tbody>\n",
       "    <tr>\n",
       "      <th>0</th>\n",
       "      <td>Data Scientist: Artificial Intelligence</td>\n",
       "      <td>IBM</td>\n",
       "      <td>Bangalore/Bengaluru</td>\n",
       "      <td>6-11</td>\n",
       "      <td>Scheduling, big data, Unix shell scripting, SQ...</td>\n",
       "    </tr>\n",
       "    <tr>\n",
       "      <th>1</th>\n",
       "      <td>Staff Data Scientist</td>\n",
       "      <td>Walmart</td>\n",
       "      <td>Bangalore/Bengaluru</td>\n",
       "      <td>4-8</td>\n",
       "      <td>IT Skills, Data Science, Machine Learning, Big...</td>\n",
       "    </tr>\n",
       "    <tr>\n",
       "      <th>2</th>\n",
       "      <td>Data Scientist-Client Engineering</td>\n",
       "      <td>IBM</td>\n",
       "      <td>Mumbai</td>\n",
       "      <td>5-10</td>\n",
       "      <td>Consulting, Machine learning, Healthcare, Pres...</td>\n",
       "    </tr>\n",
       "    <tr>\n",
       "      <th>3</th>\n",
       "      <td>Senior Data Scientist</td>\n",
       "      <td>Walmart</td>\n",
       "      <td>Bangalore/Bengaluru</td>\n",
       "      <td>5-10</td>\n",
       "      <td>IT Skills, Testing, Data Science, Machine Lear...</td>\n",
       "    </tr>\n",
       "    <tr>\n",
       "      <th>4</th>\n",
       "      <td>Cognitive/AI Senior Data Scientist</td>\n",
       "      <td>IBM</td>\n",
       "      <td>Bangalore/Bengaluru</td>\n",
       "      <td>4-8</td>\n",
       "      <td>Automation, Consulting, Machine learning, Anal...</td>\n",
       "    </tr>\n",
       "    <tr>\n",
       "      <th>5</th>\n",
       "      <td>Lead - Data Scientist</td>\n",
       "      <td>Applied Materials</td>\n",
       "      <td>Bangalore/Bengaluru</td>\n",
       "      <td>10-15</td>\n",
       "      <td>data science, Java, Business Intelligence, R, ...</td>\n",
       "    </tr>\n",
       "    <tr>\n",
       "      <th>6</th>\n",
       "      <td>Sr NLP &amp; Text Mining Data Scientist</td>\n",
       "      <td>Evolent Health</td>\n",
       "      <td>Pune</td>\n",
       "      <td>2-6</td>\n",
       "      <td>Business Intelligence, IT Skills, Python, Test...</td>\n",
       "    </tr>\n",
       "    <tr>\n",
       "      <th>7</th>\n",
       "      <td>Sr. Data Scientist</td>\n",
       "      <td>Invesco</td>\n",
       "      <td>Hyderabad/Secunderabad</td>\n",
       "      <td>5-10</td>\n",
       "      <td>analytical project management, predictive mode...</td>\n",
       "    </tr>\n",
       "    <tr>\n",
       "      <th>8</th>\n",
       "      <td>Digital-Senior Process Manager- Data Scientist...</td>\n",
       "      <td>eClerx</td>\n",
       "      <td>Pune</td>\n",
       "      <td>8-13</td>\n",
       "      <td>data visualization tools, IT Skills, Python, D...</td>\n",
       "    </tr>\n",
       "    <tr>\n",
       "      <th>9</th>\n",
       "      <td>Senior Data Scientist</td>\n",
       "      <td>ICERTIS Solutions</td>\n",
       "      <td>Pune</td>\n",
       "      <td>10-12</td>\n",
       "      <td>IT Skills, Python, Data Science, Machine Learn...</td>\n",
       "    </tr>\n",
       "  </tbody>\n",
       "</table>\n",
       "</div>"
      ],
      "text/plain": [
       "                                            Job_Role            Company  \\\n",
       "0            Data Scientist: Artificial Intelligence                IBM   \n",
       "1                               Staff Data Scientist            Walmart   \n",
       "2                  Data Scientist-Client Engineering                IBM   \n",
       "3                              Senior Data Scientist            Walmart   \n",
       "4                 Cognitive/AI Senior Data Scientist                IBM   \n",
       "5                              Lead - Data Scientist  Applied Materials   \n",
       "6                Sr NLP & Text Mining Data Scientist     Evolent Health   \n",
       "7                                 Sr. Data Scientist            Invesco   \n",
       "8  Digital-Senior Process Manager- Data Scientist...             eClerx   \n",
       "9                              Senior Data Scientist  ICERTIS Solutions   \n",
       "\n",
       "                 Location Job Experience  \\\n",
       "0     Bangalore/Bengaluru           6-11   \n",
       "1     Bangalore/Bengaluru            4-8   \n",
       "2                  Mumbai           5-10   \n",
       "3     Bangalore/Bengaluru           5-10   \n",
       "4     Bangalore/Bengaluru            4-8   \n",
       "5     Bangalore/Bengaluru          10-15   \n",
       "6                    Pune            2-6   \n",
       "7  Hyderabad/Secunderabad           5-10   \n",
       "8                    Pune           8-13   \n",
       "9                    Pune          10-12   \n",
       "\n",
       "                                  Skills/Description  \n",
       "0  Scheduling, big data, Unix shell scripting, SQ...  \n",
       "1  IT Skills, Data Science, Machine Learning, Big...  \n",
       "2  Consulting, Machine learning, Healthcare, Pres...  \n",
       "3  IT Skills, Testing, Data Science, Machine Lear...  \n",
       "4  Automation, Consulting, Machine learning, Anal...  \n",
       "5  data science, Java, Business Intelligence, R, ...  \n",
       "6  Business Intelligence, IT Skills, Python, Test...  \n",
       "7  analytical project management, predictive mode...  \n",
       "8  data visualization tools, IT Skills, Python, D...  \n",
       "9  IT Skills, Python, Data Science, Machine Learn...  "
      ]
     },
     "execution_count": 3,
     "metadata": {},
     "output_type": "execute_result"
    }
   ],
   "source": [
    "df.head(10)"
   ]
  },
  {
   "cell_type": "markdown",
   "id": "e2fca161",
   "metadata": {},
   "source": [
    "### Lets check the shape of our dataset. i.e rows& coloums"
   ]
  },
  {
   "cell_type": "code",
   "execution_count": 4,
   "id": "fa404b23",
   "metadata": {},
   "outputs": [
    {
     "data": {
      "text/plain": [
       "(12000, 5)"
      ]
     },
     "execution_count": 4,
     "metadata": {},
     "output_type": "execute_result"
    }
   ],
   "source": [
    "df.shape"
   ]
  },
  {
   "cell_type": "markdown",
   "id": "7a7558fb",
   "metadata": {},
   "source": [
    "### Lets get some information regarding our dataset."
   ]
  },
  {
   "cell_type": "code",
   "execution_count": 5,
   "id": "d0ce7dc3",
   "metadata": {},
   "outputs": [
    {
     "name": "stdout",
     "output_type": "stream",
     "text": [
      "<class 'pandas.core.frame.DataFrame'>\n",
      "RangeIndex: 12000 entries, 0 to 11999\n",
      "Data columns (total 5 columns):\n",
      " #   Column              Non-Null Count  Dtype \n",
      "---  ------              --------------  ----- \n",
      " 0   Job_Role            12000 non-null  object\n",
      " 1   Company             12000 non-null  object\n",
      " 2   Location            12000 non-null  object\n",
      " 3   Job Experience      12000 non-null  object\n",
      " 4   Skills/Description  12000 non-null  object\n",
      "dtypes: object(5)\n",
      "memory usage: 468.9+ KB\n"
     ]
    }
   ],
   "source": [
    "df.info()"
   ]
  },
  {
   "cell_type": "markdown",
   "id": "0c0f60c9",
   "metadata": {},
   "source": [
    "### Lets check the null values in our dataset."
   ]
  },
  {
   "cell_type": "code",
   "execution_count": 6,
   "id": "342507dd",
   "metadata": {},
   "outputs": [
    {
     "data": {
      "text/plain": [
       "Job_Role              0\n",
       "Company               0\n",
       "Location              0\n",
       "Job Experience        0\n",
       "Skills/Description    0\n",
       "dtype: int64"
      ]
     },
     "execution_count": 6,
     "metadata": {},
     "output_type": "execute_result"
    }
   ],
   "source": [
    "df.isnull().sum()"
   ]
  },
  {
   "cell_type": "markdown",
   "id": "5e15be3d",
   "metadata": {},
   "source": [
    "### Lets checkout the states with the most no of jobs available visually"
   ]
  },
  {
   "cell_type": "code",
   "execution_count": 7,
   "id": "0f1c367a",
   "metadata": {
    "scrolled": true
   },
   "outputs": [
    {
     "data": {
      "image/png": "[encoded data removed]",
      "text/plain": [
       "<Figure size 432x288 with 1 Axes>"
      ]
     },
     "metadata": {
      "needs_background": "light"
     },
     "output_type": "display_data"
    }
   ],
   "source": [
    "sns.barplot(x=df[\"Location\"].value_counts().sort_values(ascending=False).values[:20], y=df[\"Location\"].value_counts().sort_values(ascending=False).index[:20], palette=\"tab20\")\n",
    "plt.ylabel(\"City\")\n",
    "plt.xlabel(\"Count\")\n",
    "plt.title(\"Top 20 cities with most jobs available\")\n",
    "plt.show()"
   ]
  },
  {
   "cell_type": "markdown",
   "id": "71ad9150",
   "metadata": {},
   "source": [
    "### Lets see the top 20 jobs in demand "
   ]
  },
  {
   "cell_type": "code",
   "execution_count": 8,
   "id": "e04fb9ed",
   "metadata": {},
   "outputs": [
    {
     "data": {
      "image/png": "[encoded data removed]",
      "text/plain": [
       "<Figure size 432x288 with 1 Axes>"
      ]
     },
     "metadata": {
      "needs_background": "light"
     },
     "output_type": "display_data"
    }
   ],
   "source": [
    "sns.barplot(x=df[\"Job_Role\"].value_counts().sort_values(ascending=False).values[:20], y=df[\"Job_Role\"].value_counts().sort_values(ascending=False).index[:20])\n",
    "plt.ylabel(\"Job Role\")\n",
    "plt.xlabel(\"Count\")\n",
    "plt.title(\"Top 20 job available\")\n",
    "plt.show()"
   ]
  },
  {
   "cell_type": "markdown",
   "id": "8c726503",
   "metadata": {},
   "source": [
    "### Lets check the max job "
   ]
  },
  {
   "cell_type": "code",
   "execution_count": 9,
   "id": "7e5e299c",
   "metadata": {},
   "outputs": [
    {
     "data": {
      "text/plain": [
       "'urgent vacancy For Data Scientist For Hyderabad location'"
      ]
     },
     "execution_count": 9,
     "metadata": {},
     "output_type": "execute_result"
    }
   ],
   "source": [
    "df['Job_Role'].max()"
   ]
  },
  {
   "cell_type": "markdown",
   "id": "8666ed73",
   "metadata": {},
   "source": [
    "### Lets checkout the Data Analyst Job "
   ]
  },
  {
   "cell_type": "code",
   "execution_count": 10,
   "id": "c72ffad9",
   "metadata": {},
   "outputs": [
    {
     "data": {
      "text/html": [
       "<div>\n",
       "<style scoped>\n",
       "    .dataframe tbody tr th:only-of-type {\n",
       "        vertical-align: middle;\n",
       "    }\n",
       "\n",
       "    .dataframe tbody tr th {\n",
       "        vertical-align: top;\n",
       "    }\n",
       "\n",
       "    .dataframe thead th {\n",
       "        text-align: right;\n",
       "    }\n",
       "</style>\n",
       "<table border=\"1\" class=\"dataframe\">\n",
       "  <thead>\n",
       "    <tr style=\"text-align: right;\">\n",
       "      <th></th>\n",
       "      <th>Job_Role</th>\n",
       "      <th>Company</th>\n",
       "      <th>Location</th>\n",
       "      <th>Job Experience</th>\n",
       "      <th>Skills/Description</th>\n",
       "    </tr>\n",
       "  </thead>\n",
       "  <tbody>\n",
       "    <tr>\n",
       "      <th>2103</th>\n",
       "      <td>Data Analyst</td>\n",
       "      <td>Netomi</td>\n",
       "      <td>Gurgaon</td>\n",
       "      <td>0-1</td>\n",
       "      <td>deep learning, Manager Quality Assurance, Fren...</td>\n",
       "    </tr>\n",
       "    <tr>\n",
       "      <th>2127</th>\n",
       "      <td>Data Analyst</td>\n",
       "      <td>Reval India Pvt. Ltd.</td>\n",
       "      <td>Noida</td>\n",
       "      <td>0-1</td>\n",
       "      <td>IT Skills, Software Development, Testing, Mark...</td>\n",
       "    </tr>\n",
       "    <tr>\n",
       "      <th>2130</th>\n",
       "      <td>Data Analyst</td>\n",
       "      <td>ARDEM Data Services Private Limited</td>\n",
       "      <td>Lucknow</td>\n",
       "      <td>0-2</td>\n",
       "      <td>Mcom, Application Development, Excel, Email, B...</td>\n",
       "    </tr>\n",
       "    <tr>\n",
       "      <th>1696</th>\n",
       "      <td>Data Analyst</td>\n",
       "      <td>A &amp; M Supplies India Private Limited</td>\n",
       "      <td>Noida, New Delhi(Mohan Co-operative), Faridabad</td>\n",
       "      <td>0-2</td>\n",
       "      <td>Information Research, data analysis, Excel, Da...</td>\n",
       "    </tr>\n",
       "    <tr>\n",
       "      <th>1913</th>\n",
       "      <td>Data Analyst</td>\n",
       "      <td>GROYYO PRIVATE LIMITED</td>\n",
       "      <td>Gurgaon/Gurugram</td>\n",
       "      <td>0-2</td>\n",
       "      <td>Data Analysis, Dashboards, Presentation Skills...</td>\n",
       "    </tr>\n",
       "    <tr>\n",
       "      <th>2116</th>\n",
       "      <td>Data Analyst</td>\n",
       "      <td>Lendingkart Finance Limited</td>\n",
       "      <td>Ahmedabad</td>\n",
       "      <td>0-3</td>\n",
       "      <td>Business Intelligence, Excel, Mis, Problem Sol...</td>\n",
       "    </tr>\n",
       "    <tr>\n",
       "      <th>1612</th>\n",
       "      <td>Data Analyst</td>\n",
       "      <td>Thrillophilia</td>\n",
       "      <td>Jaipur</td>\n",
       "      <td>0-3</td>\n",
       "      <td>Business objects, PDF, Database design, Proces...</td>\n",
       "    </tr>\n",
       "    <tr>\n",
       "      <th>1693</th>\n",
       "      <td>Data Analyst</td>\n",
       "      <td>Enrich talents</td>\n",
       "      <td>Bangalore/Bengaluru</td>\n",
       "      <td>0-4</td>\n",
       "      <td>Data Analysis, cloud analytics, Big Data Analy...</td>\n",
       "    </tr>\n",
       "    <tr>\n",
       "      <th>2123</th>\n",
       "      <td>Data Analyst</td>\n",
       "      <td>POST A RESUME HR Consultancy</td>\n",
       "      <td>Ahmedabad</td>\n",
       "      <td>0-4</td>\n",
       "      <td>Excel, MIS, Analytical, Retail analysis, Data ...</td>\n",
       "    </tr>\n",
       "    <tr>\n",
       "      <th>2100</th>\n",
       "      <td>Data Analyst</td>\n",
       "      <td>Teplar Solutions</td>\n",
       "      <td>Coimbatore</td>\n",
       "      <td>0-4</td>\n",
       "      <td>analytical, Microsoft Office, MS - Office, com...</td>\n",
       "    </tr>\n",
       "    <tr>\n",
       "      <th>1694</th>\n",
       "      <td>Data Analyst</td>\n",
       "      <td>St. John’s Research Institute</td>\n",
       "      <td>Bengaluru</td>\n",
       "      <td>0-4</td>\n",
       "      <td>Nutrition, Coding, CRC, Data Analyst, Research...</td>\n",
       "    </tr>\n",
       "    <tr>\n",
       "      <th>2099</th>\n",
       "      <td>Data Analyst</td>\n",
       "      <td>Shaadi.com</td>\n",
       "      <td>Mumbai</td>\n",
       "      <td>0-5</td>\n",
       "      <td>Data analysis, tableau, Google Analytics, Mach...</td>\n",
       "    </tr>\n",
       "    <tr>\n",
       "      <th>2126</th>\n",
       "      <td>Data Analyst</td>\n",
       "      <td>Right Step Consulting</td>\n",
       "      <td>Delhi, Gurgaon</td>\n",
       "      <td>0-5</td>\n",
       "      <td>Product management, ERP, Data analysis, PHP, D...</td>\n",
       "    </tr>\n",
       "    <tr>\n",
       "      <th>2120</th>\n",
       "      <td>Data Analyst</td>\n",
       "      <td>Snaphunt</td>\n",
       "      <td>Hyderabad/Secunderabad</td>\n",
       "      <td>0-5</td>\n",
       "      <td>hive, data analysis, data modeling, spark, dat...</td>\n",
       "    </tr>\n",
       "    <tr>\n",
       "      <th>1555</th>\n",
       "      <td>Data Analyst</td>\n",
       "      <td>TOTAL MARKETING SUPPORT INDIA PRIVATE LIMITED</td>\n",
       "      <td>Gurgaon/Gurugram</td>\n",
       "      <td>0-5</td>\n",
       "      <td>Power Bi, Advanced Excel, Dashboards, VBA, Dat...</td>\n",
       "    </tr>\n",
       "    <tr>\n",
       "      <th>2264</th>\n",
       "      <td>Data Analyst</td>\n",
       "      <td>Myntra</td>\n",
       "      <td>Bangalore/Bengaluru</td>\n",
       "      <td>1-2</td>\n",
       "      <td>Communication Skills, Excel, Problem Solving, ...</td>\n",
       "    </tr>\n",
       "    <tr>\n",
       "      <th>2323</th>\n",
       "      <td>Data Analyst</td>\n",
       "      <td>Ameriprise Financial</td>\n",
       "      <td>Noida</td>\n",
       "      <td>1-2</td>\n",
       "      <td>Campaign management, Business analysis, data m...</td>\n",
       "    </tr>\n",
       "    <tr>\n",
       "      <th>2565</th>\n",
       "      <td>Data Analyst</td>\n",
       "      <td>Impartus Innovations Private Limited</td>\n",
       "      <td>Bangalore/Bengaluru</td>\n",
       "      <td>1-2</td>\n",
       "      <td>Advance Excel, data analysis, sas, spss, Macro...</td>\n",
       "    </tr>\n",
       "    <tr>\n",
       "      <th>2321</th>\n",
       "      <td>Data Analyst</td>\n",
       "      <td>Harsco Global Service Centre</td>\n",
       "      <td>Hyderabad/Secunderabad</td>\n",
       "      <td>1-2</td>\n",
       "      <td>Mining, Computer science, Data analysis, Busin...</td>\n",
       "    </tr>\n",
       "    <tr>\n",
       "      <th>3063</th>\n",
       "      <td>Data Analyst</td>\n",
       "      <td>V-Align Technologies</td>\n",
       "      <td>Bengaluru</td>\n",
       "      <td>1-2</td>\n",
       "      <td>data analysis, Data Analyst, Statistics</td>\n",
       "    </tr>\n",
       "  </tbody>\n",
       "</table>\n",
       "</div>"
      ],
      "text/plain": [
       "          Job_Role                                        Company  \\\n",
       "2103  Data Analyst                                         Netomi   \n",
       "2127  Data Analyst                          Reval India Pvt. Ltd.   \n",
       "2130  Data Analyst            ARDEM Data Services Private Limited   \n",
       "1696  Data Analyst           A & M Supplies India Private Limited   \n",
       "1913  Data Analyst                         GROYYO PRIVATE LIMITED   \n",
       "2116  Data Analyst                    Lendingkart Finance Limited   \n",
       "1612  Data Analyst                                  Thrillophilia   \n",
       "1693  Data Analyst                                 Enrich talents   \n",
       "2123  Data Analyst                   POST A RESUME HR Consultancy   \n",
       "2100  Data Analyst                               Teplar Solutions   \n",
       "1694  Data Analyst                  St. John’s Research Institute   \n",
       "2099  Data Analyst                                     Shaadi.com   \n",
       "2126  Data Analyst                          Right Step Consulting   \n",
       "2120  Data Analyst                                       Snaphunt   \n",
       "1555  Data Analyst  TOTAL MARKETING SUPPORT INDIA PRIVATE LIMITED   \n",
       "2264  Data Analyst                                         Myntra   \n",
       "2323  Data Analyst                           Ameriprise Financial   \n",
       "2565  Data Analyst           Impartus Innovations Private Limited   \n",
       "2321  Data Analyst                   Harsco Global Service Centre   \n",
       "3063  Data Analyst                           V-Align Technologies   \n",
       "\n",
       "                                             Location Job Experience  \\\n",
       "2103                                          Gurgaon            0-1   \n",
       "2127                                            Noida            0-1   \n",
       "2130                                          Lucknow            0-2   \n",
       "1696  Noida, New Delhi(Mohan Co-operative), Faridabad            0-2   \n",
       "1913                                 Gurgaon/Gurugram            0-2   \n",
       "2116                                        Ahmedabad            0-3   \n",
       "1612                                           Jaipur            0-3   \n",
       "1693                              Bangalore/Bengaluru            0-4   \n",
       "2123                                        Ahmedabad            0-4   \n",
       "2100                                       Coimbatore            0-4   \n",
       "1694                                        Bengaluru            0-4   \n",
       "2099                                           Mumbai            0-5   \n",
       "2126                                   Delhi, Gurgaon            0-5   \n",
       "2120                           Hyderabad/Secunderabad            0-5   \n",
       "1555                                 Gurgaon/Gurugram            0-5   \n",
       "2264                              Bangalore/Bengaluru            1-2   \n",
       "2323                                            Noida            1-2   \n",
       "2565                              Bangalore/Bengaluru            1-2   \n",
       "2321                           Hyderabad/Secunderabad            1-2   \n",
       "3063                                        Bengaluru            1-2   \n",
       "\n",
       "                                     Skills/Description  \n",
       "2103  deep learning, Manager Quality Assurance, Fren...  \n",
       "2127  IT Skills, Software Development, Testing, Mark...  \n",
       "2130  Mcom, Application Development, Excel, Email, B...  \n",
       "1696  Information Research, data analysis, Excel, Da...  \n",
       "1913  Data Analysis, Dashboards, Presentation Skills...  \n",
       "2116  Business Intelligence, Excel, Mis, Problem Sol...  \n",
       "1612  Business objects, PDF, Database design, Proces...  \n",
       "1693  Data Analysis, cloud analytics, Big Data Analy...  \n",
       "2123  Excel, MIS, Analytical, Retail analysis, Data ...  \n",
       "2100  analytical, Microsoft Office, MS - Office, com...  \n",
       "1694  Nutrition, Coding, CRC, Data Analyst, Research...  \n",
       "2099  Data analysis, tableau, Google Analytics, Mach...  \n",
       "2126  Product management, ERP, Data analysis, PHP, D...  \n",
       "2120  hive, data analysis, data modeling, spark, dat...  \n",
       "1555  Power Bi, Advanced Excel, Dashboards, VBA, Dat...  \n",
       "2264  Communication Skills, Excel, Problem Solving, ...  \n",
       "2323  Campaign management, Business analysis, data m...  \n",
       "2565  Advance Excel, data analysis, sas, spss, Macro...  \n",
       "2321  Mining, Computer science, Data analysis, Busin...  \n",
       "3063            data analysis, Data Analyst, Statistics  "
      ]
     },
     "execution_count": 10,
     "metadata": {},
     "output_type": "execute_result"
    }
   ],
   "source": [
    "df[(df['Job_Role']=='Data Analyst')].sort_values(by='Job Experience',ascending=True).head(20)"
   ]
  },
  {
   "cell_type": "markdown",
   "id": "1d1463cd",
   "metadata": {},
   "source": [
    "### Lets check which state has the maximum number of data analyst job available"
   ]
  },
  {
   "cell_type": "code",
   "execution_count": 11,
   "id": "23486731",
   "metadata": {},
   "outputs": [
    {
     "data": {
      "text/plain": [
       "Bangalore/Bengaluru       84\n",
       "Mumbai                    27\n",
       "Gurgaon/Gurugram          23\n",
       "Pune                      21\n",
       "Chennai                   21\n",
       "Bengaluru                 17\n",
       "Hyderabad/Secunderabad    12\n",
       "Noida                     11\n",
       "Gurgaon                   10\n",
       "New Delhi                  8\n",
       "Ahmedabad                  5\n",
       "Hyderabad                  4\n",
       "Remote                     4\n",
       "Kolkata                    4\n",
       "Kochi                      4\n",
       "Nagpur                     3\n",
       "Mumbai, Pune               3\n",
       "Kochi/Cochin               3\n",
       "Delhi                      3\n",
       "Mohali                     3\n",
       "Name: Location, dtype: int64"
      ]
     },
     "execution_count": 11,
     "metadata": {},
     "output_type": "execute_result"
    }
   ],
   "source": [
    "df.loc[df['Job_Role']=='Data Analyst','Location'].value_counts().head(20)\n",
    "                                                                "
   ]
  },
  {
   "cell_type": "markdown",
   "id": "e4f656a1",
   "metadata": {},
   "source": [
    "### Lets check the Data Analyst job with company name and location"
   ]
  },
  {
   "cell_type": "code",
   "execution_count": 12,
   "id": "5e6b9426",
   "metadata": {},
   "outputs": [
    {
     "data": {
      "text/plain": [
       "Company                 Location                      \n",
       "Myntra                  Bangalore/Bengaluru               11\n",
       "doubledutch             Gurgaon/Gurugram                   3\n",
       "Right Step Consulting   Gurgaon                            3\n",
       "                        New Delhi, Gurgaon/Gurugram        2\n",
       "Virtue Analytics        Lucknow                            2\n",
       "                                                          ..\n",
       "G2 Crowd                Bangalore/Bengaluru                1\n",
       "G S E-COMMERCE PVT LTD  Bangalore/Bengaluru(Jayanagar)     1\n",
       "Freshworks              Chennai                            1\n",
       "Flipkart                Bangalore/Bengaluru                1\n",
       "netway india pvt ltd    Gurgaon/Gurugram                   1\n",
       "Length: 307, dtype: int64"
      ]
     },
     "execution_count": 12,
     "metadata": {},
     "output_type": "execute_result"
    }
   ],
   "source": [
    "df.loc[df['Job_Role']=='Data Analyst',['Company','Location']].value_counts()"
   ]
  },
  {
   "cell_type": "markdown",
   "id": "0ef68f20",
   "metadata": {},
   "source": [
    "### Lets Checkout the Data Analyst job with 0-5 years experience by location and company name "
   ]
  },
  {
   "cell_type": "code",
   "execution_count": 13,
   "id": "e17447da",
   "metadata": {},
   "outputs": [
    {
     "data": {
      "text/html": [
       "<div>\n",
       "<style scoped>\n",
       "    .dataframe tbody tr th:only-of-type {\n",
       "        vertical-align: middle;\n",
       "    }\n",
       "\n",
       "    .dataframe tbody tr th {\n",
       "        vertical-align: top;\n",
       "    }\n",
       "\n",
       "    .dataframe thead th {\n",
       "        text-align: right;\n",
       "    }\n",
       "</style>\n",
       "<table border=\"1\" class=\"dataframe\">\n",
       "  <thead>\n",
       "    <tr style=\"text-align: right;\">\n",
       "      <th></th>\n",
       "      <th>Company</th>\n",
       "      <th>Location</th>\n",
       "    </tr>\n",
       "  </thead>\n",
       "  <tbody>\n",
       "    <tr>\n",
       "      <th>1555</th>\n",
       "      <td>TOTAL MARKETING SUPPORT INDIA PRIVATE LIMITED</td>\n",
       "      <td>Gurgaon/Gurugram</td>\n",
       "    </tr>\n",
       "    <tr>\n",
       "      <th>2099</th>\n",
       "      <td>Shaadi.com</td>\n",
       "      <td>Mumbai</td>\n",
       "    </tr>\n",
       "    <tr>\n",
       "      <th>2120</th>\n",
       "      <td>Snaphunt</td>\n",
       "      <td>Hyderabad/Secunderabad</td>\n",
       "    </tr>\n",
       "    <tr>\n",
       "      <th>2126</th>\n",
       "      <td>Right Step Consulting</td>\n",
       "      <td>Delhi, Gurgaon</td>\n",
       "    </tr>\n",
       "  </tbody>\n",
       "</table>\n",
       "</div>"
      ],
      "text/plain": [
       "                                            Company                Location\n",
       "1555  TOTAL MARKETING SUPPORT INDIA PRIVATE LIMITED        Gurgaon/Gurugram\n",
       "2099                                     Shaadi.com                  Mumbai\n",
       "2120                                       Snaphunt  Hyderabad/Secunderabad\n",
       "2126                          Right Step Consulting          Delhi, Gurgaon"
      ]
     },
     "execution_count": 13,
     "metadata": {},
     "output_type": "execute_result"
    }
   ],
   "source": [
    "df.loc[(df['Job_Role']=='Data Analyst')&(df['Job Experience']=='0-5'),['Company','Location']]"
   ]
  }
 ],
 "metadata": {
  "kernelspec": {
   "display_name": "Python 3 (ipykernel)",
   "language": "python",
   "name": "python3"
  },
  "language_info": {
   "codemirror_mode": {
    "name": "ipython",
    "version": 3
   },
   "file_extension": ".py",
   "mimetype": "text/x-python",
   "name": "python",
   "nbconvert_exporter": "python",
   "pygments_lexer": "ipython3",
   "version": "3.10.4"
  }
 },
 "nbformat": 4,
 "nbformat_minor": 5
}
